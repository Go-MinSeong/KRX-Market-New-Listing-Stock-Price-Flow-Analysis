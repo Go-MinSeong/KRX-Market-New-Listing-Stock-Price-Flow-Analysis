{
 "cells": [
  {
   "cell_type": "markdown",
   "id": "8fa2d758",
   "metadata": {},
   "source": [
    "### 한국예탁결제원_주식정보서비스\n",
    "\n",
    "- 신규예탁지정종목조회\n"
   ]
  },
  {
   "cell_type": "code",
   "execution_count": 1,
   "id": "2298217c",
   "metadata": {},
   "outputs": [],
   "source": [
    "# 공공 데이터 포털 요청 관련\n",
    "import requests\n",
    "import xml.etree.ElementTree as et\n",
    "import bs4\n",
    "from lxml import html\n",
    "from urllib.parse import urlencode, quote_plus, unquote\n",
    "\n",
    "# 시각화\n",
    "import matplotlib.pyplot as plt\n",
    "from matplotlib import cm\n",
    "%matplotlib inline\n",
    "from matplotlib import rcParams\n",
    "from matplotlib import font_manager, rc\n",
    "import matplotlib.dates as mdates\n",
    "import seaborn as sns\n",
    "\n",
    "# 기본 module\n",
    "import pandas as pd\n",
    "import numpy as np\n",
    "import pprint\n",
    "from os import name\n",
    "from tqdm import tqdm\n",
    "\n",
    "###한글 폰트###\n",
    "rcParams['axes.unicode_minus'] = False\n",
    "#plt.rcParams['font.family'] = 'Malgun Gothic'\n",
    "\n",
    "font_name = font_manager.FontProperties(fname=\"/Users/gominseong/Library/Fonts/MaruBuri-Regular.otf\").get_name()\n",
    "rc('font', family=font_name)\n",
    "\n",
    "encoding = ''\n",
    "decoding = ''\n",
    "url = 'http://api.seibro.or.kr/openapi/service/StockSvc/getNewDepoSecnListN1'\n"
   ]
  },
  {
   "cell_type": "code",
   "execution_count": 3,
   "id": "151cb626",
   "metadata": {},
   "outputs": [
    {
     "name": "stderr",
     "output_type": "stream",
     "text": [
      "  2%|▋                                           | 1/60 [00:02<02:09,  2.19s/it]"
     ]
    },
    {
     "name": "stdout",
     "output_type": "stream",
     "text": [
      "(75, 12)\n"
     ]
    },
    {
     "name": "stderr",
     "output_type": "stream",
     "text": [
      "\r",
      "  3%|█▍                                          | 2/60 [00:04<01:59,  2.06s/it]"
     ]
    },
    {
     "name": "stdout",
     "output_type": "stream",
     "text": [
      "(108, 12)\n"
     ]
    },
    {
     "name": "stderr",
     "output_type": "stream",
     "text": [
      "\r",
      "  5%|██▏                                         | 3/60 [00:06<01:59,  2.10s/it]"
     ]
    },
    {
     "name": "stdout",
     "output_type": "stream",
     "text": [
      "(176, 12)\n"
     ]
    },
    {
     "name": "stderr",
     "output_type": "stream",
     "text": [
      "\r",
      "  7%|██▉                                         | 4/60 [00:08<01:56,  2.09s/it]"
     ]
    },
    {
     "name": "stdout",
     "output_type": "stream",
     "text": [
      "(235, 12)\n"
     ]
    },
    {
     "name": "stderr",
     "output_type": "stream",
     "text": [
      "\r",
      "  8%|███▋                                        | 5/60 [00:11<02:08,  2.33s/it]"
     ]
    },
    {
     "name": "stdout",
     "output_type": "stream",
     "text": [
      "(321, 12)\n"
     ]
    },
    {
     "name": "stderr",
     "output_type": "stream",
     "text": [
      "\r",
      " 10%|████▍                                       | 6/60 [00:13<02:10,  2.41s/it]"
     ]
    },
    {
     "name": "stdout",
     "output_type": "stream",
     "text": [
      "(428, 12)\n"
     ]
    },
    {
     "name": "stderr",
     "output_type": "stream",
     "text": [
      "\r",
      " 12%|█████▏                                      | 7/60 [00:15<02:03,  2.33s/it]"
     ]
    },
    {
     "name": "stdout",
     "output_type": "stream",
     "text": [
      "(525, 12)\n"
     ]
    },
    {
     "name": "stderr",
     "output_type": "stream",
     "text": [
      "\r",
      " 13%|█████▊                                      | 8/60 [00:17<01:57,  2.26s/it]"
     ]
    },
    {
     "name": "stdout",
     "output_type": "stream",
     "text": [
      "(592, 12)\n"
     ]
    },
    {
     "name": "stderr",
     "output_type": "stream",
     "text": [
      "\r",
      " 15%|██████▌                                     | 9/60 [00:20<01:56,  2.29s/it]"
     ]
    },
    {
     "name": "stdout",
     "output_type": "stream",
     "text": [
      "(636, 12)\n"
     ]
    },
    {
     "name": "stderr",
     "output_type": "stream",
     "text": [
      "\r",
      " 17%|███████▏                                   | 10/60 [00:22<01:51,  2.23s/it]"
     ]
    },
    {
     "name": "stdout",
     "output_type": "stream",
     "text": [
      "(694, 12)\n"
     ]
    },
    {
     "name": "stderr",
     "output_type": "stream",
     "text": [
      "\r",
      " 18%|███████▉                                   | 11/60 [00:24<01:48,  2.21s/it]"
     ]
    },
    {
     "name": "stdout",
     "output_type": "stream",
     "text": [
      "(807, 12)\n"
     ]
    },
    {
     "name": "stderr",
     "output_type": "stream",
     "text": [
      "\r",
      " 20%|████████▌                                  | 12/60 [00:26<01:45,  2.19s/it]"
     ]
    },
    {
     "name": "stdout",
     "output_type": "stream",
     "text": [
      "(882, 12)\n"
     ]
    },
    {
     "name": "stderr",
     "output_type": "stream",
     "text": [
      "\r",
      " 22%|█████████▎                                 | 13/60 [00:29<01:50,  2.35s/it]"
     ]
    },
    {
     "name": "stdout",
     "output_type": "stream",
     "text": [
      "(936, 12)\n"
     ]
    },
    {
     "name": "stderr",
     "output_type": "stream",
     "text": [
      "\r",
      " 23%|██████████                                 | 14/60 [00:32<01:51,  2.42s/it]"
     ]
    },
    {
     "name": "stdout",
     "output_type": "stream",
     "text": [
      "(987, 12)\n"
     ]
    },
    {
     "name": "stderr",
     "output_type": "stream",
     "text": [
      "\r",
      " 25%|██████████▊                                | 15/60 [00:34<01:47,  2.40s/it]"
     ]
    },
    {
     "name": "stdout",
     "output_type": "stream",
     "text": [
      "(1052, 12)\n"
     ]
    },
    {
     "name": "stderr",
     "output_type": "stream",
     "text": [
      "\r",
      " 27%|███████████▍                               | 16/60 [00:36<01:43,  2.35s/it]"
     ]
    },
    {
     "name": "stdout",
     "output_type": "stream",
     "text": [
      "(1143, 12)\n"
     ]
    },
    {
     "name": "stderr",
     "output_type": "stream",
     "text": [
      "\r",
      " 28%|████████████▏                              | 17/60 [00:38<01:37,  2.27s/it]"
     ]
    },
    {
     "name": "stdout",
     "output_type": "stream",
     "text": [
      "(1217, 12)\n"
     ]
    },
    {
     "name": "stderr",
     "output_type": "stream",
     "text": [
      "\r",
      " 30%|████████████▉                              | 18/60 [00:41<01:37,  2.31s/it]"
     ]
    },
    {
     "name": "stdout",
     "output_type": "stream",
     "text": [
      "(1312, 12)\n"
     ]
    },
    {
     "name": "stderr",
     "output_type": "stream",
     "text": [
      "\r",
      " 32%|█████████████▌                             | 19/60 [00:43<01:38,  2.40s/it]"
     ]
    },
    {
     "name": "stdout",
     "output_type": "stream",
     "text": [
      "(1385, 12)\n"
     ]
    },
    {
     "name": "stderr",
     "output_type": "stream",
     "text": [
      "\r",
      " 33%|██████████████▎                            | 20/60 [00:45<01:31,  2.29s/it]"
     ]
    },
    {
     "name": "stdout",
     "output_type": "stream",
     "text": [
      "(1448, 12)\n"
     ]
    },
    {
     "name": "stderr",
     "output_type": "stream",
     "text": [
      "\r",
      " 35%|███████████████                            | 21/60 [00:47<01:28,  2.27s/it]"
     ]
    },
    {
     "name": "stdout",
     "output_type": "stream",
     "text": [
      "(1501, 12)\n"
     ]
    },
    {
     "name": "stderr",
     "output_type": "stream",
     "text": [
      "\r",
      " 37%|███████████████▊                           | 22/60 [00:50<01:23,  2.21s/it]"
     ]
    },
    {
     "name": "stdout",
     "output_type": "stream",
     "text": [
      "(1567, 12)\n"
     ]
    },
    {
     "name": "stderr",
     "output_type": "stream",
     "text": [
      "\r",
      " 38%|████████████████▍                          | 23/60 [00:52<01:20,  2.17s/it]"
     ]
    },
    {
     "name": "stdout",
     "output_type": "stream",
     "text": [
      "(1649, 12)\n"
     ]
    },
    {
     "name": "stderr",
     "output_type": "stream",
     "text": [
      "\r",
      " 40%|█████████████████▏                         | 24/60 [00:54<01:15,  2.10s/it]"
     ]
    },
    {
     "name": "stdout",
     "output_type": "stream",
     "text": [
      "(1714, 12)\n"
     ]
    },
    {
     "name": "stderr",
     "output_type": "stream",
     "text": [
      "\r",
      " 42%|█████████████████▉                         | 25/60 [00:55<01:11,  2.05s/it]"
     ]
    },
    {
     "name": "stdout",
     "output_type": "stream",
     "text": [
      "(1772, 12)\n"
     ]
    },
    {
     "name": "stderr",
     "output_type": "stream",
     "text": [
      "\r",
      " 43%|██████████████████▋                        | 26/60 [00:58<01:10,  2.07s/it]"
     ]
    },
    {
     "name": "stdout",
     "output_type": "stream",
     "text": [
      "(1855, 12)\n"
     ]
    },
    {
     "name": "stderr",
     "output_type": "stream",
     "text": [
      "\r",
      " 45%|███████████████████▎                       | 27/60 [01:00<01:08,  2.08s/it]"
     ]
    },
    {
     "name": "stdout",
     "output_type": "stream",
     "text": [
      "(1916, 12)\n"
     ]
    },
    {
     "name": "stderr",
     "output_type": "stream",
     "text": [
      "\r",
      " 47%|████████████████████                       | 28/60 [01:01<01:03,  1.99s/it]"
     ]
    },
    {
     "name": "stdout",
     "output_type": "stream",
     "text": [
      "(1964, 12)\n"
     ]
    },
    {
     "name": "stderr",
     "output_type": "stream",
     "text": [
      "\r",
      " 48%|████████████████████▊                      | 29/60 [01:03<00:59,  1.93s/it]"
     ]
    },
    {
     "name": "stdout",
     "output_type": "stream",
     "text": [
      "(2042, 12)\n"
     ]
    },
    {
     "name": "stderr",
     "output_type": "stream",
     "text": [
      "\r",
      " 50%|█████████████████████▌                     | 30/60 [01:05<00:57,  1.91s/it]"
     ]
    },
    {
     "name": "stdout",
     "output_type": "stream",
     "text": [
      "(2112, 12)\n"
     ]
    },
    {
     "name": "stderr",
     "output_type": "stream",
     "text": [
      "\r",
      " 52%|██████████████████████▏                    | 31/60 [01:07<00:56,  1.93s/it]"
     ]
    },
    {
     "name": "stdout",
     "output_type": "stream",
     "text": [
      "(2160, 12)\n"
     ]
    },
    {
     "name": "stderr",
     "output_type": "stream",
     "text": [
      "\r",
      " 53%|██████████████████████▉                    | 32/60 [01:09<00:54,  1.96s/it]"
     ]
    },
    {
     "name": "stdout",
     "output_type": "stream",
     "text": [
      "(2218, 12)\n"
     ]
    },
    {
     "name": "stderr",
     "output_type": "stream",
     "text": [
      "\r",
      " 55%|███████████████████████▋                   | 33/60 [01:11<00:51,  1.91s/it]"
     ]
    },
    {
     "name": "stdout",
     "output_type": "stream",
     "text": [
      "(2269, 12)\n"
     ]
    },
    {
     "name": "stderr",
     "output_type": "stream",
     "text": [
      "\r",
      " 57%|████████████████████████▎                  | 34/60 [01:13<00:49,  1.89s/it]"
     ]
    },
    {
     "name": "stdout",
     "output_type": "stream",
     "text": [
      "(2330, 12)\n"
     ]
    },
    {
     "name": "stderr",
     "output_type": "stream",
     "text": [
      "\r",
      " 58%|█████████████████████████                  | 35/60 [01:15<00:46,  1.87s/it]"
     ]
    },
    {
     "name": "stdout",
     "output_type": "stream",
     "text": [
      "(2393, 12)\n"
     ]
    },
    {
     "name": "stderr",
     "output_type": "stream",
     "text": [
      "\r",
      " 60%|█████████████████████████▊                 | 36/60 [01:17<00:45,  1.90s/it]"
     ]
    },
    {
     "name": "stdout",
     "output_type": "stream",
     "text": [
      "(2467, 12)\n"
     ]
    },
    {
     "name": "stderr",
     "output_type": "stream",
     "text": [
      "\r",
      " 62%|██████████████████████████▌                | 37/60 [01:18<00:42,  1.87s/it]"
     ]
    },
    {
     "name": "stdout",
     "output_type": "stream",
     "text": [
      "(2526, 12)\n"
     ]
    },
    {
     "name": "stderr",
     "output_type": "stream",
     "text": [
      "\r",
      " 63%|███████████████████████████▏               | 38/60 [01:21<00:43,  1.99s/it]"
     ]
    },
    {
     "name": "stdout",
     "output_type": "stream",
     "text": [
      "(2577, 12)\n"
     ]
    },
    {
     "name": "stderr",
     "output_type": "stream",
     "text": [
      "\r",
      " 65%|███████████████████████████▉               | 39/60 [01:22<00:40,  1.92s/it]"
     ]
    },
    {
     "name": "stdout",
     "output_type": "stream",
     "text": [
      "(2652, 12)\n"
     ]
    },
    {
     "name": "stderr",
     "output_type": "stream",
     "text": [
      "\r",
      " 67%|████████████████████████████▋              | 40/60 [01:24<00:37,  1.90s/it]"
     ]
    },
    {
     "name": "stdout",
     "output_type": "stream",
     "text": [
      "(2736, 12)\n"
     ]
    },
    {
     "name": "stderr",
     "output_type": "stream",
     "text": [
      "\r",
      " 68%|█████████████████████████████▍             | 41/60 [01:26<00:37,  1.98s/it]"
     ]
    },
    {
     "name": "stdout",
     "output_type": "stream",
     "text": [
      "(2811, 12)\n"
     ]
    },
    {
     "name": "stderr",
     "output_type": "stream",
     "text": [
      "\r",
      " 70%|██████████████████████████████             | 42/60 [01:28<00:35,  1.95s/it]"
     ]
    },
    {
     "name": "stdout",
     "output_type": "stream",
     "text": [
      "(2904, 12)\n"
     ]
    },
    {
     "name": "stderr",
     "output_type": "stream",
     "text": [
      "\r",
      " 72%|██████████████████████████████▊            | 43/60 [01:31<00:35,  2.07s/it]"
     ]
    },
    {
     "name": "stdout",
     "output_type": "stream",
     "text": [
      "(2958, 12)\n"
     ]
    },
    {
     "name": "stderr",
     "output_type": "stream",
     "text": [
      "\r",
      " 73%|███████████████████████████████▌           | 44/60 [01:33<00:33,  2.08s/it]"
     ]
    },
    {
     "name": "stdout",
     "output_type": "stream",
     "text": [
      "(3022, 12)\n"
     ]
    },
    {
     "name": "stderr",
     "output_type": "stream",
     "text": [
      "\r",
      " 75%|████████████████████████████████▎          | 45/60 [01:35<00:29,  1.99s/it]"
     ]
    },
    {
     "name": "stdout",
     "output_type": "stream",
     "text": [
      "(3071, 12)\n"
     ]
    },
    {
     "name": "stderr",
     "output_type": "stream",
     "text": [
      "\r",
      " 77%|████████████████████████████████▉          | 46/60 [01:37<00:28,  2.03s/it]"
     ]
    },
    {
     "name": "stdout",
     "output_type": "stream",
     "text": [
      "(3174, 12)\n"
     ]
    },
    {
     "name": "stderr",
     "output_type": "stream",
     "text": [
      "\r",
      " 78%|█████████████████████████████████▋         | 47/60 [01:39<00:26,  2.04s/it]"
     ]
    },
    {
     "name": "stdout",
     "output_type": "stream",
     "text": [
      "(3251, 12)\n"
     ]
    },
    {
     "name": "stderr",
     "output_type": "stream",
     "text": [
      "\r",
      " 80%|██████████████████████████████████▍        | 48/60 [01:41<00:24,  2.01s/it]"
     ]
    },
    {
     "name": "stdout",
     "output_type": "stream",
     "text": [
      "(3337, 12)\n"
     ]
    },
    {
     "name": "stderr",
     "output_type": "stream",
     "text": [
      "\r",
      " 82%|███████████████████████████████████        | 49/60 [01:42<00:21,  1.91s/it]"
     ]
    },
    {
     "name": "stdout",
     "output_type": "stream",
     "text": [
      "(3380, 12)\n"
     ]
    },
    {
     "name": "stderr",
     "output_type": "stream",
     "text": [
      "\r",
      " 83%|███████████████████████████████████▊       | 50/60 [01:44<00:19,  1.92s/it]"
     ]
    },
    {
     "name": "stdout",
     "output_type": "stream",
     "text": [
      "(3450, 12)\n"
     ]
    },
    {
     "name": "stderr",
     "output_type": "stream",
     "text": [
      "\r",
      " 85%|████████████████████████████████████▌      | 51/60 [01:47<00:18,  2.02s/it]"
     ]
    },
    {
     "name": "stdout",
     "output_type": "stream",
     "text": [
      "(3515, 12)\n"
     ]
    },
    {
     "name": "stderr",
     "output_type": "stream",
     "text": [
      "\r",
      " 87%|█████████████████████████████████████▎     | 52/60 [01:48<00:15,  1.95s/it]"
     ]
    },
    {
     "name": "stdout",
     "output_type": "stream",
     "text": [
      "(3580, 12)\n"
     ]
    },
    {
     "name": "stderr",
     "output_type": "stream",
     "text": [
      "\r",
      " 88%|█████████████████████████████████████▉     | 53/60 [01:50<00:13,  1.94s/it]"
     ]
    },
    {
     "name": "stdout",
     "output_type": "stream",
     "text": [
      "(3623, 12)\n"
     ]
    },
    {
     "name": "stderr",
     "output_type": "stream",
     "text": [
      "\r",
      " 90%|██████████████████████████████████████▋    | 54/60 [01:52<00:11,  1.92s/it]"
     ]
    },
    {
     "name": "stdout",
     "output_type": "stream",
     "text": [
      "(3695, 12)\n"
     ]
    },
    {
     "name": "stderr",
     "output_type": "stream",
     "text": [
      "\r",
      " 92%|███████████████████████████████████████▍   | 55/60 [01:54<00:09,  1.87s/it]"
     ]
    },
    {
     "name": "stdout",
     "output_type": "stream",
     "text": [
      "(3763, 12)\n"
     ]
    },
    {
     "name": "stderr",
     "output_type": "stream",
     "text": [
      "\r",
      " 93%|████████████████████████████████████████▏  | 56/60 [01:57<00:08,  2.15s/it]"
     ]
    },
    {
     "name": "stdout",
     "output_type": "stream",
     "text": [
      "(3790, 12)\n"
     ]
    },
    {
     "name": "stderr",
     "output_type": "stream",
     "text": [
      "\r",
      " 95%|████████████████████████████████████████▊  | 57/60 [01:59<00:06,  2.07s/it]"
     ]
    },
    {
     "name": "stdout",
     "output_type": "stream",
     "text": [
      "(3824, 12)\n"
     ]
    },
    {
     "name": "stderr",
     "output_type": "stream",
     "text": [
      "\r",
      " 97%|█████████████████████████████████████████▌ | 58/60 [02:01<00:04,  2.03s/it]"
     ]
    },
    {
     "name": "stdout",
     "output_type": "stream",
     "text": [
      "(3880, 12)\n"
     ]
    },
    {
     "name": "stderr",
     "output_type": "stream",
     "text": [
      "\r",
      " 98%|██████████████████████████████████████████▎| 59/60 [02:02<00:01,  1.98s/it]"
     ]
    },
    {
     "name": "stdout",
     "output_type": "stream",
     "text": [
      "(3966, 12)\n"
     ]
    },
    {
     "name": "stderr",
     "output_type": "stream",
     "text": [
      "100%|███████████████████████████████████████████| 60/60 [02:04<00:00,  2.08s/it]"
     ]
    },
    {
     "name": "stdout",
     "output_type": "stream",
     "text": [
      "(4037, 12)\n"
     ]
    },
    {
     "name": "stderr",
     "output_type": "stream",
     "text": [
      "\n"
     ]
    }
   ],
   "source": [
    "date_small_lst = ['20'+str(y)+str(x) for x in range(1,13) for y in range(18,23)]\n",
    "date_lst = [x[:4]+'0'+x[-1]  if len(x)==5 else x for x in date_small_lst]\n",
    "date_lst.sort()\n",
    "\n",
    "df = pd.DataFrame()\n",
    "for date in tqdm(date_lst):\n",
    "    params ={'serviceKey' : decoding, \n",
    "        'yyyymm': date,\n",
    "        'numOfRows':999\n",
    "        #'stdDt':20171130\n",
    "        }\n",
    "    response = requests.get(url, params=params)\n",
    "    content = response.text\n",
    "    #print(response.text)\n",
    "    # 깔끔한 출력 위한 코드\n",
    "    pp = pprint.PrettyPrinter(indent=4)\n",
    "    #print(pp.pprint(content))\n",
    "\n",
    "    #bs4 사용하여 item 태그 분리\n",
    "\n",
    "    xml_obj = bs4.BeautifulSoup(content,'lxml-xml')\n",
    "    rows = xml_obj.findAll('item')\n",
    "    #print(rows)\n",
    "    # 각 행의 컬럼, 이름, 값을 가지는 리스트 만들기\n",
    "    row_list = [] # 행값\n",
    "    name_list = [] # 열이름값\n",
    "    value_list = [] #데이터값\n",
    "\n",
    "    # xml 안의 데이터 수집\n",
    "    for i in range(0, len(rows)):\n",
    "        columns = rows[i].find_all()\n",
    "        #첫째 행 데이터 수집\n",
    "        for j in range(0,len(columns)):\n",
    "            if i ==0:\n",
    "                # 컬럼 이름 값 저장\n",
    "                name_list.append(columns[j].name)\n",
    "            # 컬럼의 각 데이터 값 저장\n",
    "            value_list.append(columns[j].text)\n",
    "        # 각 행의 value값 전체 저장\n",
    "        row_list.append(value_list)\n",
    "        # 데이터 리스트 값 초기화\n",
    "        value_list=[]\n",
    "        \n",
    "    \n",
    "    #xml값 DataFrame으로 만들기\n",
    "    df1 = pd.DataFrame(row_list, columns=name_list)\n",
    "    df = pd.concat([df, df1], axis=0)\n",
    "    print(df.shape)"
   ]
  },
  {
   "cell_type": "code",
   "execution_count": 4,
   "id": "e668675f",
   "metadata": {},
   "outputs": [
    {
     "data": {
      "text/plain": [
       "Index(['apliDt', 'eltscYn', 'indtpClsfNo', 'indtpNm', 'isin', 'issucoCustno',\n",
       "       'korSecnNm', 'pval', 'secnKacd', 'secnKacdNm', 'setaccMm',\n",
       "       'totIssuQty'],\n",
       "      dtype='object')"
      ]
     },
     "execution_count": 4,
     "metadata": {},
     "output_type": "execute_result"
    }
   ],
   "source": [
    "df.columns"
   ]
  },
  {
   "cell_type": "code",
   "execution_count": 5,
   "id": "09a6e59b",
   "metadata": {},
   "outputs": [
    {
     "data": {
      "text/html": [
       "<div>\n",
       "<style scoped>\n",
       "    .dataframe tbody tr th:only-of-type {\n",
       "        vertical-align: middle;\n",
       "    }\n",
       "\n",
       "    .dataframe tbody tr th {\n",
       "        vertical-align: top;\n",
       "    }\n",
       "\n",
       "    .dataframe thead th {\n",
       "        text-align: right;\n",
       "    }\n",
       "</style>\n",
       "<table border=\"1\" class=\"dataframe\">\n",
       "  <thead>\n",
       "    <tr style=\"text-align: right;\">\n",
       "      <th></th>\n",
       "      <th>apliDt</th>\n",
       "      <th>eltscYn</th>\n",
       "      <th>indtpClsfNo</th>\n",
       "      <th>indtpNm</th>\n",
       "      <th>isin</th>\n",
       "      <th>issucoCustno</th>\n",
       "      <th>korSecnNm</th>\n",
       "      <th>pval</th>\n",
       "      <th>secnKacd</th>\n",
       "      <th>secnKacdNm</th>\n",
       "      <th>setaccMm</th>\n",
       "      <th>totIssuQty</th>\n",
       "    </tr>\n",
       "  </thead>\n",
       "  <tbody>\n",
       "    <tr>\n",
       "      <th>0</th>\n",
       "      <td>20180130</td>\n",
       "      <td>N</td>\n",
       "      <td>J58222</td>\n",
       "      <td>정보통신업</td>\n",
       "      <td>KR7286660006</td>\n",
       "      <td>31945</td>\n",
       "      <td>가브린트</td>\n",
       "      <td>100</td>\n",
       "      <td>0101</td>\n",
       "      <td>보통주</td>\n",
       "      <td>12</td>\n",
       "      <td>3710000</td>\n",
       "    </tr>\n",
       "    <tr>\n",
       "      <th>1</th>\n",
       "      <td>20180130</td>\n",
       "      <td>Y</td>\n",
       "      <td>C303</td>\n",
       "      <td>제조업</td>\n",
       "      <td>KR7290120005</td>\n",
       "      <td>32206</td>\n",
       "      <td>대유에이피</td>\n",
       "      <td>500</td>\n",
       "      <td>0101</td>\n",
       "      <td>보통주</td>\n",
       "      <td>12</td>\n",
       "      <td>11859281</td>\n",
       "    </tr>\n",
       "    <tr>\n",
       "      <th>2</th>\n",
       "      <td>20180130</td>\n",
       "      <td>N</td>\n",
       "      <td>J58222</td>\n",
       "      <td>정보통신업</td>\n",
       "      <td>KR7285640009</td>\n",
       "      <td>31710</td>\n",
       "      <td>블루앤</td>\n",
       "      <td>10000</td>\n",
       "      <td>0101</td>\n",
       "      <td>보통주</td>\n",
       "      <td>12</td>\n",
       "      <td>20000</td>\n",
       "    </tr>\n",
       "    <tr>\n",
       "      <th>3</th>\n",
       "      <td>20180130</td>\n",
       "      <td>N</td>\n",
       "      <td>C26299</td>\n",
       "      <td>제조업</td>\n",
       "      <td>KR7287060008</td>\n",
       "      <td>31888</td>\n",
       "      <td>비앤알테크널러지</td>\n",
       "      <td>5000</td>\n",
       "      <td>0101</td>\n",
       "      <td>보통주</td>\n",
       "      <td>12</td>\n",
       "      <td>20200</td>\n",
       "    </tr>\n",
       "    <tr>\n",
       "      <th>4</th>\n",
       "      <td>20180130</td>\n",
       "      <td>N</td>\n",
       "      <td>G47212</td>\n",
       "      <td>도매 및 소매업</td>\n",
       "      <td>KR727508K011</td>\n",
       "      <td>30627</td>\n",
       "      <td>아이언가이즈1우</td>\n",
       "      <td>500</td>\n",
       "      <td>0201</td>\n",
       "      <td>우선주</td>\n",
       "      <td>12</td>\n",
       "      <td>19558</td>\n",
       "    </tr>\n",
       "  </tbody>\n",
       "</table>\n",
       "</div>"
      ],
      "text/plain": [
       "     apliDt eltscYn indtpClsfNo   indtpNm          isin issucoCustno  \\\n",
       "0  20180130       N      J58222     정보통신업  KR7286660006        31945   \n",
       "1  20180130       Y        C303       제조업  KR7290120005        32206   \n",
       "2  20180130       N      J58222     정보통신업  KR7285640009        31710   \n",
       "3  20180130       N      C26299       제조업  KR7287060008        31888   \n",
       "4  20180130       N      G47212  도매 및 소매업  KR727508K011        30627   \n",
       "\n",
       "  korSecnNm   pval secnKacd secnKacdNm setaccMm totIssuQty  \n",
       "0      가브린트    100     0101        보통주       12    3710000  \n",
       "1     대유에이피    500     0101        보통주       12   11859281  \n",
       "2       블루앤  10000     0101        보통주       12      20000  \n",
       "3  비앤알테크널러지   5000     0101        보통주       12      20200  \n",
       "4  아이언가이즈1우    500     0201        우선주       12      19558  "
      ]
     },
     "execution_count": 5,
     "metadata": {},
     "output_type": "execute_result"
    }
   ],
   "source": [
    "df.head()"
   ]
  },
  {
   "cell_type": "code",
   "execution_count": 6,
   "id": "eca27be3",
   "metadata": {},
   "outputs": [
    {
     "name": "stdout",
     "output_type": "stream",
     "text": [
      "<class 'pandas.core.frame.DataFrame'>\n",
      "Int64Index: 4037 entries, 0 to 70\n",
      "Data columns (total 12 columns):\n",
      " #   Column        Non-Null Count  Dtype \n",
      "---  ------        --------------  ----- \n",
      " 0   apliDt        4037 non-null   object\n",
      " 1   eltscYn       4037 non-null   object\n",
      " 2   indtpClsfNo   4037 non-null   object\n",
      " 3   indtpNm       4037 non-null   object\n",
      " 4   isin          4037 non-null   object\n",
      " 5   issucoCustno  4037 non-null   object\n",
      " 6   korSecnNm     4037 non-null   object\n",
      " 7   pval          4037 non-null   object\n",
      " 8   secnKacd      4037 non-null   object\n",
      " 9   secnKacdNm    4037 non-null   object\n",
      " 10  setaccMm      4037 non-null   object\n",
      " 11  totIssuQty    4037 non-null   object\n",
      "dtypes: object(12)\n",
      "memory usage: 410.0+ KB\n"
     ]
    }
   ],
   "source": [
    "df.info()"
   ]
  },
  {
   "cell_type": "code",
   "execution_count": 7,
   "id": "87297654",
   "metadata": {},
   "outputs": [],
   "source": [
    "# pval = 액면가\n",
    "# totIssuQty = 총 발행 수\n",
    "\n",
    "df[\"pval\"] = df[\"pval\"].astype(\"int\")\n",
    "df[\"totIssuQty\"] = df[\"totIssuQty\"].astype(\"int\")\n",
    "df[\"총 발행 주식 금액\"] = df[\"totIssuQty\"] * df[\"pval\"]  "
   ]
  },
  {
   "cell_type": "code",
   "execution_count": 8,
   "id": "884bdaaf",
   "metadata": {},
   "outputs": [
    {
     "name": "stdout",
     "output_type": "stream",
     "text": [
      "액면가 평균값 : 10967.773098835769\n",
      "액면가 중간값 : 500.0\n",
      "액면가 표준편차 : 551333.7358036496\n",
      "액면가 최대값 : 35000000\n",
      "액면가 최소값 : 0\n"
     ]
    }
   ],
   "source": [
    "print(\"액면가 평균값 :\",df[\"pval\"].mean())\n",
    "print(\"액면가 중간값 :\",df[\"pval\"].median())\n",
    "print(\"액면가 표준편차 :\",df[\"pval\"].std())\n",
    "print(\"액면가 최대값 :\",df[\"pval\"].max())\n",
    "print(\"액면가 최소값 :\",df[\"pval\"].min())"
   ]
  },
  {
   "cell_type": "code",
   "execution_count": 9,
   "id": "00e5c1c2",
   "metadata": {},
   "outputs": [
    {
     "name": "stdout",
     "output_type": "stream",
     "text": [
      "총 발행 주식 금액 평균값 : 4166494142.333416\n",
      "총 발행 주식 금액 중간값 : 132013500.0\n",
      "총 발행 주식 금액 표준편차 : 73169728294.12752\n",
      "총 발행 주식 금액 최대값 : 3640302745000\n",
      "총 발행 주식 금액 최소값 : 0\n"
     ]
    }
   ],
   "source": [
    "print(\"총 발행 주식 금액 평균값 :\",df[\"총 발행 주식 금액\"].mean())\n",
    "print(\"총 발행 주식 금액 중간값 :\",df[\"총 발행 주식 금액\"].median())\n",
    "print(\"총 발행 주식 금액 표준편차 :\",df[\"총 발행 주식 금액\"].std())\n",
    "print(\"총 발행 주식 금액 최대값 :\",df[\"총 발행 주식 금액\"].max())\n",
    "print(\"총 발행 주식 금액 최소값 :\",df[\"총 발행 주식 금액\"].min())"
   ]
  },
  {
   "cell_type": "code",
   "execution_count": 11,
   "id": "fc7bc61e",
   "metadata": {},
   "outputs": [
    {
     "data": {
      "image/png": "[encoded data removed]",
      "text/plain": [
       "<Figure size 640x480 with 1 Axes>"
      ]
     },
     "metadata": {},
     "output_type": "display_data"
    }
   ],
   "source": [
    "plt.hist(df['pval'], bins=40, color='red') #bins 구간갯수\n",
    "plt.ylabel('회사 수')\n",
    "plt.grid()\n",
    "plt.xticks(rotation=60, fontsize=6)\n",
    "plt.show()"
   ]
  },
  {
   "cell_type": "code",
   "execution_count": 12,
   "id": "3fac9ccd",
   "metadata": {},
   "outputs": [],
   "source": [
    "df[\"M\"] = df[\"apliDt\"].apply(lambda x: x[:6])"
   ]
  },
  {
   "cell_type": "code",
   "execution_count": 13,
   "id": "c0b25370",
   "metadata": {},
   "outputs": [],
   "source": [
    "Q1 = df['pval'].quantile(0.25)\n",
    "Q3 = df['pval'].quantile(0.75)\n",
    "IQR = Q3 - Q1\n",
    "\n",
    "lower = Q1 - 1.5*IQR\n",
    "upper = Q3 + 1.5*IQR\n",
    "\n",
    "median = df['pval'].median()\n",
    "df['pval'] = np.where((df['pval'] < lower) , lower, df['pval'])\n",
    "df['pval'] = np.where((df['pval'] > upper) , upper, df['pval'])"
   ]
  },
  {
   "cell_type": "code",
   "execution_count": 14,
   "id": "be2dfca6",
   "metadata": {},
   "outputs": [
    {
     "data": {
      "text/plain": [
       "11750.0"
      ]
     },
     "execution_count": 14,
     "metadata": {},
     "output_type": "execute_result"
    }
   ],
   "source": [
    "df['pval'].max()"
   ]
  },
  {
   "cell_type": "code",
   "execution_count": 17,
   "id": "e3ddb8dc",
   "metadata": {},
   "outputs": [
    {
     "data": {
      "image/png": "[encoded data removed]",
      "text/plain": [
       "<Figure size 640x480 with 1 Axes>"
      ]
     },
     "metadata": {},
     "output_type": "display_data"
    }
   ],
   "source": [
    "plt.hist(df['pval'], bins=40, color='skyblue') #bins 구간갯수\n",
    "plt.ylabel('회사 수')\n",
    "plt.title('액면가 별 회사 수')\n",
    "plt.grid()\n",
    "plt.xticks(rotation=60, fontsize=6)\n",
    "plt.show()"
   ]
  },
  {
   "cell_type": "code",
   "execution_count": 18,
   "id": "d7bbad9d",
   "metadata": {},
   "outputs": [
    {
     "data": {
      "image/png": "[encoded data removed]",
      "text/plain": [
       "<Figure size 640x480 with 1 Axes>"
      ]
     },
     "metadata": {},
     "output_type": "display_data"
    }
   ],
   "source": [
    "plt.hist(df['M'], bins=40, color='red') #bins 구간갯수\n",
    "plt.ylabel('발행 회사 수')\n",
    "plt.grid()\n",
    "plt.title(\"2018년 ~ 2022년 월 별 발행 회사 수\")\n",
    "plt.xticks(rotation=60, fontsize=6)\n",
    "plt.show()"
   ]
  },
  {
   "cell_type": "code",
   "execution_count": 19,
   "id": "7ced044b",
   "metadata": {},
   "outputs": [],
   "source": [
    "df[\"year\"] = df[\"apliDt\"].apply(lambda x: x[:4])"
   ]
  },
  {
   "cell_type": "code",
   "execution_count": 20,
   "id": "20811501",
   "metadata": {},
   "outputs": [
    {
     "data": {
      "text/plain": [
       "0     2018\n",
       "1     2018\n",
       "2     2018\n",
       "3     2018\n",
       "4     2018\n",
       "      ... \n",
       "70    2018\n",
       "71    2018\n",
       "72    2018\n",
       "73    2018\n",
       "74    2018\n",
       "Name: year, Length: 882, dtype: object"
      ]
     },
     "execution_count": 20,
     "metadata": {},
     "output_type": "execute_result"
    }
   ],
   "source": [
    "df.query('year==\"2018\"')['year']"
   ]
  },
  {
   "cell_type": "code",
   "execution_count": 21,
   "id": "24c47751",
   "metadata": {},
   "outputs": [
    {
     "data": {
      "image/png": "[encoded data removed]",
      "text/plain": [
       "<Figure size 640x480 with 1 Axes>"
      ]
     },
     "metadata": {},
     "output_type": "display_data"
    },
    {
     "data": {
      "image/png": "[encoded data removed]",
      "text/plain": [
       "<Figure size 640x480 with 1 Axes>"
      ]
     },
     "metadata": {},
     "output_type": "display_data"
    },
    {
     "data": {
      "image/png": "[encoded data removed]",
      "text/plain": [
       "<Figure size 640x480 with 1 Axes>"
      ]
     },
     "metadata": {},
     "output_type": "display_data"
    },
    {
     "data": {
      "image/png": "[encoded data removed]",
      "text/plain": [
       "<Figure size 640x480 with 1 Axes>"
      ]
     },
     "metadata": {},
     "output_type": "display_data"
    },
    {
     "data": {
      "image/png": "[encoded data removed]",
      "text/plain": [
       "<Figure size 640x480 with 1 Axes>"
      ]
     },
     "metadata": {},
     "output_type": "display_data"
    }
   ],
   "source": [
    "for i in range(2018,2023):\n",
    "    i=str(i)\n",
    "    plt.hist(df.query('year==@i')['M'], bins=4, color='orange') #bins 구간갯수\n",
    "    plt.ylabel('발행 회사 수')\n",
    "    plt.xticks( fontsize=7, rotation=45)\n",
    "    plt.title(str(i)+\"년 발행 회사 수\")\n",
    "    plt.show()"
   ]
  },
  {
   "cell_type": "code",
   "execution_count": 22,
   "id": "aa05b240",
   "metadata": {},
   "outputs": [
    {
     "data": {
      "text/html": [
       "<div>\n",
       "<style scoped>\n",
       "    .dataframe tbody tr th:only-of-type {\n",
       "        vertical-align: middle;\n",
       "    }\n",
       "\n",
       "    .dataframe tbody tr th {\n",
       "        vertical-align: top;\n",
       "    }\n",
       "\n",
       "    .dataframe thead th {\n",
       "        text-align: right;\n",
       "    }\n",
       "</style>\n",
       "<table border=\"1\" class=\"dataframe\">\n",
       "  <thead>\n",
       "    <tr style=\"text-align: right;\">\n",
       "      <th></th>\n",
       "      <th>apliDt</th>\n",
       "      <th>eltscYn</th>\n",
       "      <th>indtpClsfNo</th>\n",
       "      <th>indtpNm</th>\n",
       "      <th>isin</th>\n",
       "      <th>issucoCustno</th>\n",
       "      <th>korSecnNm</th>\n",
       "      <th>pval</th>\n",
       "      <th>secnKacd</th>\n",
       "      <th>secnKacdNm</th>\n",
       "      <th>setaccMm</th>\n",
       "      <th>totIssuQty</th>\n",
       "      <th>총 발행 주식 금액</th>\n",
       "      <th>M</th>\n",
       "      <th>year</th>\n",
       "    </tr>\n",
       "  </thead>\n",
       "  <tbody>\n",
       "    <tr>\n",
       "      <th>0</th>\n",
       "      <td>20180130</td>\n",
       "      <td>N</td>\n",
       "      <td>J58222</td>\n",
       "      <td>정보통신업</td>\n",
       "      <td>KR7286660006</td>\n",
       "      <td>31945</td>\n",
       "      <td>가브린트</td>\n",
       "      <td>100.0</td>\n",
       "      <td>0101</td>\n",
       "      <td>보통주</td>\n",
       "      <td>12</td>\n",
       "      <td>3710000</td>\n",
       "      <td>371000000</td>\n",
       "      <td>201801</td>\n",
       "      <td>2018</td>\n",
       "    </tr>\n",
       "    <tr>\n",
       "      <th>1</th>\n",
       "      <td>20180130</td>\n",
       "      <td>Y</td>\n",
       "      <td>C303</td>\n",
       "      <td>제조업</td>\n",
       "      <td>KR7290120005</td>\n",
       "      <td>32206</td>\n",
       "      <td>대유에이피</td>\n",
       "      <td>500.0</td>\n",
       "      <td>0101</td>\n",
       "      <td>보통주</td>\n",
       "      <td>12</td>\n",
       "      <td>11859281</td>\n",
       "      <td>5929640500</td>\n",
       "      <td>201801</td>\n",
       "      <td>2018</td>\n",
       "    </tr>\n",
       "    <tr>\n",
       "      <th>2</th>\n",
       "      <td>20180130</td>\n",
       "      <td>N</td>\n",
       "      <td>J58222</td>\n",
       "      <td>정보통신업</td>\n",
       "      <td>KR7285640009</td>\n",
       "      <td>31710</td>\n",
       "      <td>블루앤</td>\n",
       "      <td>10000.0</td>\n",
       "      <td>0101</td>\n",
       "      <td>보통주</td>\n",
       "      <td>12</td>\n",
       "      <td>20000</td>\n",
       "      <td>200000000</td>\n",
       "      <td>201801</td>\n",
       "      <td>2018</td>\n",
       "    </tr>\n",
       "    <tr>\n",
       "      <th>3</th>\n",
       "      <td>20180130</td>\n",
       "      <td>N</td>\n",
       "      <td>C26299</td>\n",
       "      <td>제조업</td>\n",
       "      <td>KR7287060008</td>\n",
       "      <td>31888</td>\n",
       "      <td>비앤알테크널러지</td>\n",
       "      <td>5000.0</td>\n",
       "      <td>0101</td>\n",
       "      <td>보통주</td>\n",
       "      <td>12</td>\n",
       "      <td>20200</td>\n",
       "      <td>101000000</td>\n",
       "      <td>201801</td>\n",
       "      <td>2018</td>\n",
       "    </tr>\n",
       "    <tr>\n",
       "      <th>4</th>\n",
       "      <td>20180130</td>\n",
       "      <td>N</td>\n",
       "      <td>G47212</td>\n",
       "      <td>도매 및 소매업</td>\n",
       "      <td>KR727508K011</td>\n",
       "      <td>30627</td>\n",
       "      <td>아이언가이즈1우</td>\n",
       "      <td>500.0</td>\n",
       "      <td>0201</td>\n",
       "      <td>우선주</td>\n",
       "      <td>12</td>\n",
       "      <td>19558</td>\n",
       "      <td>9779000</td>\n",
       "      <td>201801</td>\n",
       "      <td>2018</td>\n",
       "    </tr>\n",
       "    <tr>\n",
       "      <th>...</th>\n",
       "      <td>...</td>\n",
       "      <td>...</td>\n",
       "      <td>...</td>\n",
       "      <td>...</td>\n",
       "      <td>...</td>\n",
       "      <td>...</td>\n",
       "      <td>...</td>\n",
       "      <td>...</td>\n",
       "      <td>...</td>\n",
       "      <td>...</td>\n",
       "      <td>...</td>\n",
       "      <td>...</td>\n",
       "      <td>...</td>\n",
       "      <td>...</td>\n",
       "      <td>...</td>\n",
       "    </tr>\n",
       "    <tr>\n",
       "      <th>66</th>\n",
       "      <td>20221202</td>\n",
       "      <td>Y</td>\n",
       "      <td>K661</td>\n",
       "      <td>금융 및 보험업</td>\n",
       "      <td>KR7450050000</td>\n",
       "      <td>48174</td>\n",
       "      <td>하이제8호기업인수목적</td>\n",
       "      <td>100.0</td>\n",
       "      <td>0101</td>\n",
       "      <td>보통주</td>\n",
       "      <td>12</td>\n",
       "      <td>764000</td>\n",
       "      <td>76400000</td>\n",
       "      <td>202212</td>\n",
       "      <td>2022</td>\n",
       "    </tr>\n",
       "    <tr>\n",
       "      <th>67</th>\n",
       "      <td>20221201</td>\n",
       "      <td>N</td>\n",
       "      <td>G</td>\n",
       "      <td>도매 및 소매업</td>\n",
       "      <td>KR725090K012</td>\n",
       "      <td>28234</td>\n",
       "      <td>메디포럼1우</td>\n",
       "      <td>500.0</td>\n",
       "      <td>0201</td>\n",
       "      <td>우선주</td>\n",
       "      <td>12</td>\n",
       "      <td>2369230</td>\n",
       "      <td>1184615000</td>\n",
       "      <td>202212</td>\n",
       "      <td>2022</td>\n",
       "    </tr>\n",
       "    <tr>\n",
       "      <th>68</th>\n",
       "      <td>20221201</td>\n",
       "      <td>N</td>\n",
       "      <td>C33999</td>\n",
       "      <td>제조업</td>\n",
       "      <td>KR7443630009</td>\n",
       "      <td>47808</td>\n",
       "      <td>벨락</td>\n",
       "      <td>5000.0</td>\n",
       "      <td>0101</td>\n",
       "      <td>보통주</td>\n",
       "      <td>12</td>\n",
       "      <td>28629</td>\n",
       "      <td>143145000</td>\n",
       "      <td>202212</td>\n",
       "      <td>2022</td>\n",
       "    </tr>\n",
       "    <tr>\n",
       "      <th>69</th>\n",
       "      <td>20221201</td>\n",
       "      <td>N</td>\n",
       "      <td>C33999</td>\n",
       "      <td>제조업</td>\n",
       "      <td>KR744363K010</td>\n",
       "      <td>47808</td>\n",
       "      <td>벨락1우</td>\n",
       "      <td>5000.0</td>\n",
       "      <td>0201</td>\n",
       "      <td>우선주</td>\n",
       "      <td>12</td>\n",
       "      <td>566</td>\n",
       "      <td>2830000</td>\n",
       "      <td>202212</td>\n",
       "      <td>2022</td>\n",
       "    </tr>\n",
       "    <tr>\n",
       "      <th>70</th>\n",
       "      <td>20221201</td>\n",
       "      <td>Y</td>\n",
       "      <td>C19</td>\n",
       "      <td>제조업</td>\n",
       "      <td>KR7445180003</td>\n",
       "      <td>48159</td>\n",
       "      <td>퓨릿</td>\n",
       "      <td>500.0</td>\n",
       "      <td>0101</td>\n",
       "      <td>보통주</td>\n",
       "      <td>12</td>\n",
       "      <td>13788730</td>\n",
       "      <td>6894365000</td>\n",
       "      <td>202212</td>\n",
       "      <td>2022</td>\n",
       "    </tr>\n",
       "  </tbody>\n",
       "</table>\n",
       "<p>4037 rows × 15 columns</p>\n",
       "</div>"
      ],
      "text/plain": [
       "      apliDt eltscYn indtpClsfNo   indtpNm          isin issucoCustno  \\\n",
       "0   20180130       N      J58222     정보통신업  KR7286660006        31945   \n",
       "1   20180130       Y        C303       제조업  KR7290120005        32206   \n",
       "2   20180130       N      J58222     정보통신업  KR7285640009        31710   \n",
       "3   20180130       N      C26299       제조업  KR7287060008        31888   \n",
       "4   20180130       N      G47212  도매 및 소매업  KR727508K011        30627   \n",
       "..       ...     ...         ...       ...           ...          ...   \n",
       "66  20221202       Y        K661  금융 및 보험업  KR7450050000        48174   \n",
       "67  20221201       N           G  도매 및 소매업  KR725090K012        28234   \n",
       "68  20221201       N      C33999       제조업  KR7443630009        47808   \n",
       "69  20221201       N      C33999       제조업  KR744363K010        47808   \n",
       "70  20221201       Y         C19       제조업  KR7445180003        48159   \n",
       "\n",
       "      korSecnNm     pval secnKacd secnKacdNm setaccMm  totIssuQty  총 발행 주식 금액  \\\n",
       "0          가브린트    100.0     0101        보통주       12     3710000   371000000   \n",
       "1         대유에이피    500.0     0101        보통주       12    11859281  5929640500   \n",
       "2           블루앤  10000.0     0101        보통주       12       20000   200000000   \n",
       "3      비앤알테크널러지   5000.0     0101        보통주       12       20200   101000000   \n",
       "4      아이언가이즈1우    500.0     0201        우선주       12       19558     9779000   \n",
       "..          ...      ...      ...        ...      ...         ...         ...   \n",
       "66  하이제8호기업인수목적    100.0     0101        보통주       12      764000    76400000   \n",
       "67       메디포럼1우    500.0     0201        우선주       12     2369230  1184615000   \n",
       "68           벨락   5000.0     0101        보통주       12       28629   143145000   \n",
       "69         벨락1우   5000.0     0201        우선주       12         566     2830000   \n",
       "70           퓨릿    500.0     0101        보통주       12    13788730  6894365000   \n",
       "\n",
       "         M  year  \n",
       "0   201801  2018  \n",
       "1   201801  2018  \n",
       "2   201801  2018  \n",
       "3   201801  2018  \n",
       "4   201801  2018  \n",
       "..     ...   ...  \n",
       "66  202212  2022  \n",
       "67  202212  2022  \n",
       "68  202212  2022  \n",
       "69  202212  2022  \n",
       "70  202212  2022  \n",
       "\n",
       "[4037 rows x 15 columns]"
      ]
     },
     "execution_count": 22,
     "metadata": {},
     "output_type": "execute_result"
    }
   ],
   "source": [
    "df"
   ]
  },
  {
   "cell_type": "code",
   "execution_count": 27,
   "id": "8fd4bb0e",
   "metadata": {},
   "outputs": [],
   "source": [
    "df[\"M\"] = pd.to_datetime(df[\"M\"], format = '%Y%m')"
   ]
  },
  {
   "cell_type": "code",
   "execution_count": 28,
   "id": "98994b57",
   "metadata": {},
   "outputs": [
    {
     "data": {
      "text/html": [
       "<svg  width=\"275\" height=\"55\"><rect x=\"0\" y=\"0\" width=\"55\" height=\"55\" style=\"fill:#db5f57;stroke-width:2;stroke:rgb(255,255,255)\"/><rect x=\"55\" y=\"0\" width=\"55\" height=\"55\" style=\"fill:#b9db57;stroke-width:2;stroke:rgb(255,255,255)\"/><rect x=\"110\" y=\"0\" width=\"55\" height=\"55\" style=\"fill:#57db94;stroke-width:2;stroke:rgb(255,255,255)\"/><rect x=\"165\" y=\"0\" width=\"55\" height=\"55\" style=\"fill:#5784db;stroke-width:2;stroke:rgb(255,255,255)\"/><rect x=\"220\" y=\"0\" width=\"55\" height=\"55\" style=\"fill:#c957db;stroke-width:2;stroke:rgb(255,255,255)\"/></svg>"
      ],
      "text/plain": [
       "[(0.86, 0.3712, 0.33999999999999997),\n",
       " (0.7247999999999999, 0.86, 0.33999999999999997),\n",
       " (0.33999999999999997, 0.86, 0.5792000000000002),\n",
       " (0.33999999999999997, 0.5167999999999995, 0.86),\n",
       " (0.7871999999999999, 0.33999999999999997, 0.86)]"
      ]
     },
     "execution_count": 28,
     "metadata": {},
     "output_type": "execute_result"
    }
   ],
   "source": [
    "sns.color_palette(\"hls\", 5) # hls 색상표에서 8개의 색상을 가져옴"
   ]
  },
  {
   "cell_type": "code",
   "execution_count": 29,
   "id": "c6eafba0",
   "metadata": {},
   "outputs": [],
   "source": [
    "df = df.reset_index()"
   ]
  },
  {
   "cell_type": "code",
   "execution_count": 30,
   "id": "820a06b0",
   "metadata": {},
   "outputs": [
    {
     "data": {
      "image/png": "[encoded data removed]",
      "text/plain": [
       "<Figure size 640x480 with 1 Axes>"
      ]
     },
     "metadata": {},
     "output_type": "display_data"
    }
   ],
   "source": [
    "sns.kdeplot(data = df.query('year!=\"2022\"'), x ='M', hue='year', fill=True, common_norm=False, palette=\"hls\",\n",
    "   alpha=.8)\n",
    "plt.grid()\n",
    "plt.show()"
   ]
  },
  {
   "cell_type": "code",
   "execution_count": 31,
   "id": "f204c17a",
   "metadata": {},
   "outputs": [],
   "source": [
    "df[\"Month\"]=df[\"apliDt\"].apply(lambda x: x[4:6])"
   ]
  },
  {
   "cell_type": "code",
   "execution_count": 32,
   "id": "9fc63d7e",
   "metadata": {},
   "outputs": [],
   "source": [
    "df[\"Month\"]= df[\"Month\"].astype('int')"
   ]
  },
  {
   "cell_type": "code",
   "execution_count": 35,
   "id": "18975e87",
   "metadata": {},
   "outputs": [
    {
     "data": {
      "image/png": "[encoded data removed]",
      "text/plain": [
       "<Figure size 640x480 with 1 Axes>"
      ]
     },
     "metadata": {},
     "output_type": "display_data"
    }
   ],
   "source": [
    "sns.kdeplot(data = df.query('year!=\"2022\"'), x ='Month', hue='year', fill=True, common_norm=False, palette=\"hls\",\n",
    "   alpha=.8)\n",
    "plt.title(\"연도 별 발행 회사 월 별 분포 확인\")\n",
    "plt.grid()\n",
    "plt.show()\n",
    "#-> 모든 연도에서 유사한 분포를 보임, 발행을 많이 하는 기간이 존재(봄)  (다만, 2020년에는 분포가 약간 다름 : 코로나)"
   ]
  }
 ],
 "metadata": {
  "kernelspec": {
   "display_name": "Python 3 (ipykernel)",
   "language": "python",
   "name": "python3"
  },
  "language_info": {
   "codemirror_mode": {
    "name": "ipython",
    "version": 3
   },
   "file_extension": ".py",
   "mimetype": "text/x-python",
   "name": "python",
   "nbconvert_exporter": "python",
   "pygments_lexer": "ipython3",
   "version": "3.10.11"
  }
 },
 "nbformat": 4,
 "nbformat_minor": 5
}
