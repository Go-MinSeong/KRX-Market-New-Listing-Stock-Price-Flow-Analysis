{
 "cells": [
  {
   "cell_type": "code",
   "execution_count": 196,
   "id": "31117d75",
   "metadata": {},
   "outputs": [],
   "source": [
    "# 주제 : 신규 상장 이후 300일간의 거래일 분석\n",
    "\n",
    "# 상장 이후 300일간의 거래일을 분석하여 신규 상장 주식의 초반 흐름을 살펴보고자 합니다.\n",
    "\n",
    "# 최근 들어 신규 상장 불패 신화 관련, 뉴스가 많이 들려오고 있습니다. 또한, 한때 공모주 열풍이 불기도 하였습니다.\n",
    "# 그렇다면, 진짜로 공모주는 불패 신화일까? 또한 상장일 이후 언제쯤 판매하는 것이 최고의 이득을 볼 수 있는지 분석하는 최종 프로젝트를 하고자 합니다.\n",
    "# 새로운 주식 데이터를 api입수는 하지 않았지만, 원래 이 데이터에 대해 관심 있어 공공데이터 포털 : 금융위원회_주식시세정보  및 KIND : 신규 상장 기업 정보를 이용하고자 합니다."
   ]
  },
  {
   "cell_type": "code",
   "execution_count": 3,
   "id": "2298217c",
   "metadata": {},
   "outputs": [],
   "source": [
    "# 공공 데이터 포털 요청 관련\n",
    "import requests\n",
    "import xml.etree.ElementTree as et\n",
    "import bs4\n",
    "from lxml import html\n",
    "from urllib.parse import urlencode, quote_plus, unquote\n",
    "\n",
    "# 시각화\n",
    "import matplotlib.pyplot as plt\n",
    "from matplotlib import cm\n",
    "%matplotlib inline\n",
    "from matplotlib import rcParams\n",
    "from matplotlib import font_manager, rc\n",
    "import matplotlib.dates as mdates\n",
    "import seaborn as sns\n",
    "\n",
    "# 기본 module\n",
    "import pandas as pd\n",
    "import numpy as np\n",
    "import pprint\n",
    "from os import name\n",
    "from tqdm import tqdm\n",
    "\n",
    "###한글 폰트###\n",
    "rcParams['axes.unicode_minus'] = False\n",
    "#plt.rcParams['font.family'] = 'Malgun Gothic'\n",
    "\n",
    "font_name = font_manager.FontProperties(fname=\"/Users/gominseong/Library/Fonts/MaruBuri-Regular.otf\").get_name()\n",
    "rc('font', family=font_name)"
   ]
  },
  {
   "cell_type": "code",
   "execution_count": 4,
   "id": "7bff4b26",
   "metadata": {},
   "outputs": [
    {
     "data": {
      "text/plain": [
       "Index(['basDt', 'srtnCd', 'isinCd', 'itmsNm', 'mrktCtg', 'clpr', 'vs', 'fltRt',\n",
       "       'mkp', 'hipr', 'lopr', 'trqu', 'trPrc', 'lstgStCnt', 'mrktTotAmt'],\n",
       "      dtype='object')"
      ]
     },
     "execution_count": 4,
     "metadata": {},
     "output_type": "execute_result"
    }
   ],
   "source": [
    "df = pd.read_csv(\"KRX_NewStock_2020~2021.csv\")\n",
    "newstock20_21 = list(df[\"srtnCd\"].unique())\n",
    "\n",
    "df.columns"
   ]
  },
  {
   "cell_type": "markdown",
   "id": "c5fd006a",
   "metadata": {},
   "source": [
    "#### newstock20_21 : 2020년~2021년 KRX신규상장 종목번호 리스트\n",
    "#### df : 위에 해당하는 기업의 주가 정보 데이터 프레임\n",
    "|| df columns 설명 || \n",
    "- basDt 기준일자\n",
    "- srtnCd 종목코드\n",
    "- isinCd 국제채권번호\n",
    "- itmsNm 종목명\n",
    "- mrktCtg 상장시장\n",
    "- clpr 종가\n",
    "- vs 전일 대비 등락\n",
    "- fltRt 전일 대비 등락률\n",
    "- mkp 시가\n",
    "- hipr 고가\n",
    "- lowpr 저가\n",
    "- trqu 거래량\n",
    "- trPrc 거래 금액\n",
    "- lstgStCnt 상장 주식 수\n",
    "- mrktTotAmt 시총"
   ]
  },
  {
   "cell_type": "code",
   "execution_count": 5,
   "id": "ae73a380",
   "metadata": {},
   "outputs": [
    {
     "name": "stdout",
     "output_type": "stream",
     "text": [
      "<class 'pandas.core.frame.DataFrame'>\n",
      "RangeIndex: 105410 entries, 0 to 105409\n",
      "Data columns (total 15 columns):\n",
      " #   Column      Non-Null Count   Dtype  \n",
      "---  ------      --------------   -----  \n",
      " 0   basDt       105410 non-null  int64  \n",
      " 1   srtnCd      105410 non-null  int64  \n",
      " 2   isinCd      105410 non-null  object \n",
      " 3   itmsNm      105410 non-null  object \n",
      " 4   mrktCtg     105410 non-null  object \n",
      " 5   clpr        105410 non-null  int64  \n",
      " 6   vs          105410 non-null  int64  \n",
      " 7   fltRt       105410 non-null  float64\n",
      " 8   mkp         105410 non-null  int64  \n",
      " 9   hipr        105410 non-null  int64  \n",
      " 10  lopr        105410 non-null  int64  \n",
      " 11  trqu        105410 non-null  int64  \n",
      " 12  trPrc       105410 non-null  int64  \n",
      " 13  lstgStCnt   105410 non-null  int64  \n",
      " 14  mrktTotAmt  105410 non-null  int64  \n",
      "dtypes: float64(1), int64(11), object(3)\n",
      "memory usage: 12.1+ MB\n"
     ]
    }
   ],
   "source": [
    "df.info()"
   ]
  },
  {
   "cell_type": "code",
   "execution_count": 6,
   "id": "37206493",
   "metadata": {},
   "outputs": [
    {
     "data": {
      "text/html": [
       "<div>\n",
       "<style scoped>\n",
       "    .dataframe tbody tr th:only-of-type {\n",
       "        vertical-align: middle;\n",
       "    }\n",
       "\n",
       "    .dataframe tbody tr th {\n",
       "        vertical-align: top;\n",
       "    }\n",
       "\n",
       "    .dataframe thead th {\n",
       "        text-align: right;\n",
       "    }\n",
       "</style>\n",
       "<table border=\"1\" class=\"dataframe\">\n",
       "  <thead>\n",
       "    <tr style=\"text-align: right;\">\n",
       "      <th></th>\n",
       "      <th>basDt</th>\n",
       "      <th>srtnCd</th>\n",
       "      <th>isinCd</th>\n",
       "      <th>itmsNm</th>\n",
       "      <th>mrktCtg</th>\n",
       "      <th>clpr</th>\n",
       "      <th>vs</th>\n",
       "      <th>fltRt</th>\n",
       "      <th>mkp</th>\n",
       "      <th>hipr</th>\n",
       "      <th>lopr</th>\n",
       "      <th>trqu</th>\n",
       "      <th>trPrc</th>\n",
       "      <th>lstgStCnt</th>\n",
       "      <th>mrktTotAmt</th>\n",
       "    </tr>\n",
       "  </thead>\n",
       "  <tbody>\n",
       "    <tr>\n",
       "      <th>0</th>\n",
       "      <td>20230327</td>\n",
       "      <td>400560</td>\n",
       "      <td>KR7400560009</td>\n",
       "      <td>하나금융20호스팩</td>\n",
       "      <td>KOSDAQ</td>\n",
       "      <td>2280</td>\n",
       "      <td>0</td>\n",
       "      <td>0.0</td>\n",
       "      <td>0</td>\n",
       "      <td>0</td>\n",
       "      <td>0</td>\n",
       "      <td>0</td>\n",
       "      <td>0</td>\n",
       "      <td>3050000</td>\n",
       "      <td>6954000000</td>\n",
       "    </tr>\n",
       "    <tr>\n",
       "      <th>1</th>\n",
       "      <td>20230324</td>\n",
       "      <td>400560</td>\n",
       "      <td>KR7400560009</td>\n",
       "      <td>하나금융20호스팩</td>\n",
       "      <td>KOSDAQ</td>\n",
       "      <td>2280</td>\n",
       "      <td>0</td>\n",
       "      <td>0.0</td>\n",
       "      <td>0</td>\n",
       "      <td>0</td>\n",
       "      <td>0</td>\n",
       "      <td>0</td>\n",
       "      <td>0</td>\n",
       "      <td>3050000</td>\n",
       "      <td>6954000000</td>\n",
       "    </tr>\n",
       "    <tr>\n",
       "      <th>2</th>\n",
       "      <td>20230323</td>\n",
       "      <td>400560</td>\n",
       "      <td>KR7400560009</td>\n",
       "      <td>하나금융20호스팩</td>\n",
       "      <td>KOSDAQ</td>\n",
       "      <td>2280</td>\n",
       "      <td>0</td>\n",
       "      <td>0.0</td>\n",
       "      <td>0</td>\n",
       "      <td>0</td>\n",
       "      <td>0</td>\n",
       "      <td>0</td>\n",
       "      <td>0</td>\n",
       "      <td>3050000</td>\n",
       "      <td>6954000000</td>\n",
       "    </tr>\n",
       "    <tr>\n",
       "      <th>3</th>\n",
       "      <td>20230322</td>\n",
       "      <td>400560</td>\n",
       "      <td>KR7400560009</td>\n",
       "      <td>하나금융20호스팩</td>\n",
       "      <td>KOSDAQ</td>\n",
       "      <td>2280</td>\n",
       "      <td>0</td>\n",
       "      <td>0.0</td>\n",
       "      <td>0</td>\n",
       "      <td>0</td>\n",
       "      <td>0</td>\n",
       "      <td>0</td>\n",
       "      <td>0</td>\n",
       "      <td>3050000</td>\n",
       "      <td>6954000000</td>\n",
       "    </tr>\n",
       "    <tr>\n",
       "      <th>4</th>\n",
       "      <td>20230321</td>\n",
       "      <td>400560</td>\n",
       "      <td>KR7400560009</td>\n",
       "      <td>하나금융20호스팩</td>\n",
       "      <td>KOSDAQ</td>\n",
       "      <td>2280</td>\n",
       "      <td>0</td>\n",
       "      <td>0.0</td>\n",
       "      <td>0</td>\n",
       "      <td>0</td>\n",
       "      <td>0</td>\n",
       "      <td>0</td>\n",
       "      <td>0</td>\n",
       "      <td>3050000</td>\n",
       "      <td>6954000000</td>\n",
       "    </tr>\n",
       "  </tbody>\n",
       "</table>\n",
       "</div>"
      ],
      "text/plain": [
       "      basDt  srtnCd        isinCd     itmsNm mrktCtg  clpr  vs  fltRt  mkp  \\\n",
       "0  20230327  400560  KR7400560009  하나금융20호스팩  KOSDAQ  2280   0    0.0    0   \n",
       "1  20230324  400560  KR7400560009  하나금융20호스팩  KOSDAQ  2280   0    0.0    0   \n",
       "2  20230323  400560  KR7400560009  하나금융20호스팩  KOSDAQ  2280   0    0.0    0   \n",
       "3  20230322  400560  KR7400560009  하나금융20호스팩  KOSDAQ  2280   0    0.0    0   \n",
       "4  20230321  400560  KR7400560009  하나금융20호스팩  KOSDAQ  2280   0    0.0    0   \n",
       "\n",
       "   hipr  lopr  trqu  trPrc  lstgStCnt  mrktTotAmt  \n",
       "0     0     0     0      0    3050000  6954000000  \n",
       "1     0     0     0      0    3050000  6954000000  \n",
       "2     0     0     0      0    3050000  6954000000  \n",
       "3     0     0     0      0    3050000  6954000000  \n",
       "4     0     0     0      0    3050000  6954000000  "
      ]
     },
     "execution_count": 6,
     "metadata": {},
     "output_type": "execute_result"
    }
   ],
   "source": [
    "df.head()"
   ]
  },
  {
   "cell_type": "code",
   "execution_count": 7,
   "id": "ffac7ee7",
   "metadata": {},
   "outputs": [],
   "source": [
    "trading_day = sorted(list(df[\"basDt\"].unique()))"
   ]
  },
  {
   "cell_type": "code",
   "execution_count": 8,
   "id": "6f283cda",
   "metadata": {},
   "outputs": [],
   "source": [
    "df['basDt'] = df['basDt'].apply(lambda x: pd.to_datetime(str(x), format='%Y-%m-%d'))"
   ]
  },
  {
   "cell_type": "code",
   "execution_count": 10,
   "id": "46c3d844",
   "metadata": {},
   "outputs": [
    {
     "data": {
      "text/plain": [
       "224"
      ]
     },
     "execution_count": 10,
     "metadata": {},
     "output_type": "execute_result"
    }
   ],
   "source": [
    "# 2020년부터 krx에 상장한 기업의 수\n",
    "df[\"itmsNm\"].nunique()"
   ]
  },
  {
   "cell_type": "code",
   "execution_count": 19,
   "id": "caabb9f0",
   "metadata": {},
   "outputs": [],
   "source": [
    "df['itmsNm'] = df['itmsNm'].apply(lambda x: str(x))"
   ]
  },
  {
   "cell_type": "code",
   "execution_count": 35,
   "id": "400fdbb0",
   "metadata": {},
   "outputs": [],
   "source": [
    "# 2020년부터 krx에 상장한 기업의 수, 스팩은 제외하고 분석 진행\n",
    "spac_index = df.query(\"itmsNm.str.contains('스팩')\").index\n",
    "df = df.iloc[list(set(df.index) - set(spac_index))]"
   ]
  },
  {
   "cell_type": "code",
   "execution_count": 36,
   "id": "bda72832",
   "metadata": {},
   "outputs": [],
   "source": [
    "# 300거래일 이상이 존재하는 주식 리스트\n",
    "over300 = df.groupby(\"itmsNm\")[\"isinCd\"].count().reset_index().query(\"isinCd >= 300\")[\"itmsNm\"].unique()"
   ]
  },
  {
   "cell_type": "code",
   "execution_count": 43,
   "id": "29c6e537",
   "metadata": {},
   "outputs": [
    {
     "name": "stderr",
     "output_type": "stream",
     "text": [
      "100%|████████████████████████████████████████| 161/161 [00:00<00:00, 471.03it/s]\n"
     ]
    }
   ],
   "source": [
    "# 주식 별 300거래일 dataframe을 생성\n",
    "df_lst = []\n",
    "for name in tqdm(over300):\n",
    "    df_lst.append(df.query(\"itmsNm == @name\").sort_values(by=\"basDt\").iloc[:300])"
   ]
  },
  {
   "cell_type": "code",
   "execution_count": 47,
   "id": "83476053",
   "metadata": {},
   "outputs": [
    {
     "data": {
      "text/html": [
       "<div>\n",
       "<style scoped>\n",
       "    .dataframe tbody tr th:only-of-type {\n",
       "        vertical-align: middle;\n",
       "    }\n",
       "\n",
       "    .dataframe tbody tr th {\n",
       "        vertical-align: top;\n",
       "    }\n",
       "\n",
       "    .dataframe thead th {\n",
       "        text-align: right;\n",
       "    }\n",
       "</style>\n",
       "<table border=\"1\" class=\"dataframe\">\n",
       "  <thead>\n",
       "    <tr style=\"text-align: right;\">\n",
       "      <th></th>\n",
       "      <th>basDt</th>\n",
       "      <th>srtnCd</th>\n",
       "      <th>isinCd</th>\n",
       "      <th>itmsNm</th>\n",
       "      <th>mrktCtg</th>\n",
       "      <th>clpr</th>\n",
       "      <th>vs</th>\n",
       "      <th>fltRt</th>\n",
       "      <th>mkp</th>\n",
       "      <th>hipr</th>\n",
       "      <th>lopr</th>\n",
       "      <th>trqu</th>\n",
       "      <th>trPrc</th>\n",
       "      <th>lstgStCnt</th>\n",
       "      <th>mrktTotAmt</th>\n",
       "    </tr>\n",
       "  </thead>\n",
       "  <tbody>\n",
       "    <tr>\n",
       "      <th>90564</th>\n",
       "      <td>2022-09-30</td>\n",
       "      <td>297890</td>\n",
       "      <td>KR7297890006</td>\n",
       "      <td>HB솔루션</td>\n",
       "      <td>KOSDAQ</td>\n",
       "      <td>13350</td>\n",
       "      <td>-350</td>\n",
       "      <td>-2.55</td>\n",
       "      <td>13350</td>\n",
       "      <td>13800</td>\n",
       "      <td>13050</td>\n",
       "      <td>64962</td>\n",
       "      <td>868051850</td>\n",
       "      <td>16720093</td>\n",
       "      <td>223213241550</td>\n",
       "    </tr>\n",
       "    <tr>\n",
       "      <th>90563</th>\n",
       "      <td>2022-10-04</td>\n",
       "      <td>297890</td>\n",
       "      <td>KR7297890006</td>\n",
       "      <td>HB솔루션</td>\n",
       "      <td>KOSDAQ</td>\n",
       "      <td>14200</td>\n",
       "      <td>850</td>\n",
       "      <td>6.37</td>\n",
       "      <td>13600</td>\n",
       "      <td>14350</td>\n",
       "      <td>13600</td>\n",
       "      <td>49590</td>\n",
       "      <td>688866550</td>\n",
       "      <td>16720093</td>\n",
       "      <td>237425320600</td>\n",
       "    </tr>\n",
       "    <tr>\n",
       "      <th>90562</th>\n",
       "      <td>2022-10-05</td>\n",
       "      <td>297890</td>\n",
       "      <td>KR7297890006</td>\n",
       "      <td>HB솔루션</td>\n",
       "      <td>KOSDAQ</td>\n",
       "      <td>14000</td>\n",
       "      <td>-200</td>\n",
       "      <td>-1.41</td>\n",
       "      <td>14300</td>\n",
       "      <td>14900</td>\n",
       "      <td>13800</td>\n",
       "      <td>76574</td>\n",
       "      <td>1082802300</td>\n",
       "      <td>16720093</td>\n",
       "      <td>234081302000</td>\n",
       "    </tr>\n",
       "    <tr>\n",
       "      <th>90561</th>\n",
       "      <td>2022-10-06</td>\n",
       "      <td>297890</td>\n",
       "      <td>KR7297890006</td>\n",
       "      <td>HB솔루션</td>\n",
       "      <td>KOSDAQ</td>\n",
       "      <td>14600</td>\n",
       "      <td>600</td>\n",
       "      <td>4.29</td>\n",
       "      <td>14200</td>\n",
       "      <td>14800</td>\n",
       "      <td>14050</td>\n",
       "      <td>67089</td>\n",
       "      <td>969734600</td>\n",
       "      <td>16720093</td>\n",
       "      <td>244113357800</td>\n",
       "    </tr>\n",
       "    <tr>\n",
       "      <th>90560</th>\n",
       "      <td>2022-10-07</td>\n",
       "      <td>297890</td>\n",
       "      <td>KR7297890006</td>\n",
       "      <td>HB솔루션</td>\n",
       "      <td>KOSDAQ</td>\n",
       "      <td>14300</td>\n",
       "      <td>-300</td>\n",
       "      <td>-2.05</td>\n",
       "      <td>14350</td>\n",
       "      <td>14500</td>\n",
       "      <td>14100</td>\n",
       "      <td>52315</td>\n",
       "      <td>743568850</td>\n",
       "      <td>16720093</td>\n",
       "      <td>239097329900</td>\n",
       "    </tr>\n",
       "  </tbody>\n",
       "</table>\n",
       "</div>"
      ],
      "text/plain": [
       "           basDt  srtnCd        isinCd itmsNm mrktCtg   clpr   vs  fltRt  \\\n",
       "90564 2022-09-30  297890  KR7297890006  HB솔루션  KOSDAQ  13350 -350  -2.55   \n",
       "90563 2022-10-04  297890  KR7297890006  HB솔루션  KOSDAQ  14200  850   6.37   \n",
       "90562 2022-10-05  297890  KR7297890006  HB솔루션  KOSDAQ  14000 -200  -1.41   \n",
       "90561 2022-10-06  297890  KR7297890006  HB솔루션  KOSDAQ  14600  600   4.29   \n",
       "90560 2022-10-07  297890  KR7297890006  HB솔루션  KOSDAQ  14300 -300  -2.05   \n",
       "\n",
       "         mkp   hipr   lopr   trqu       trPrc  lstgStCnt    mrktTotAmt  \n",
       "90564  13350  13800  13050  64962   868051850   16720093  223213241550  \n",
       "90563  13600  14350  13600  49590   688866550   16720093  237425320600  \n",
       "90562  14300  14900  13800  76574  1082802300   16720093  234081302000  \n",
       "90561  14200  14800  14050  67089   969734600   16720093  244113357800  \n",
       "90560  14350  14500  14100  52315   743568850   16720093  239097329900  "
      ]
     },
     "execution_count": 47,
     "metadata": {},
     "output_type": "execute_result"
    }
   ],
   "source": [
    "df_lst[0].tail()"
   ]
  },
  {
   "cell_type": "code",
   "execution_count": 51,
   "id": "cccb05c6",
   "metadata": {},
   "outputs": [],
   "source": [
    "for df in df_lst:\n",
    "    df[\"log_fltRt\"] = df[\"fltRt\"].apply(lambda x: np.log(x+1))"
   ]
  },
  {
   "cell_type": "code",
   "execution_count": 54,
   "id": "169540b0",
   "metadata": {},
   "outputs": [
    {
     "data": {
      "text/plain": [
       "-0.12470347850095731"
      ]
     },
     "execution_count": 54,
     "metadata": {},
     "output_type": "execute_result"
    }
   ],
   "source": [
    "np.log(2560)-np.log(2900)"
   ]
  },
  {
   "cell_type": "code",
   "execution_count": 63,
   "id": "3b3e2981",
   "metadata": {},
   "outputs": [],
   "source": [
    "# 종목별 로그 수익률 계산\n",
    "for df in df_lst:\n",
    "    lst=[0]\n",
    "    for i in range(299):\n",
    "        lst.append(np.log(df.iloc[i+1,5])-np.log(df.iloc[i,5]))\n",
    "    df[\"log_fltRt\"]=lst"
   ]
  },
  {
   "cell_type": "code",
   "execution_count": 68,
   "id": "0b0a7bb8",
   "metadata": {},
   "outputs": [
    {
     "data": {
      "image/png": "[encoded data removed]",
      "text/plain": [
       "<Figure size 1000x600 with 1 Axes>"
      ]
     },
     "metadata": {},
     "output_type": "display_data"
    }
   ],
   "source": [
    "# 특정 종목 로그 수익률 히스토 그램.\n",
    "fig, ax = plt.subplots(figsize=(10,6))\n",
    "ax.hist(df_lst[-1][\"log_fltRt\"], alpha=0.3, color = 'c', ec = 'red', bins=100) \n",
    "ax.grid(True)\n",
    "plt.savefig(\"retrun_histogram01.png\", dpi=150, bbox_inches='tight')\n",
    "plt.show()"
   ]
  },
  {
   "cell_type": "code",
   "execution_count": 77,
   "id": "79f10d9c",
   "metadata": {},
   "outputs": [
    {
     "name": "stdout",
     "output_type": "stream",
     "text": [
      "161\n"
     ]
    }
   ],
   "source": [
    "print(len(df_lst))\n",
    "#총 161개의 신규 상장 주식 중 상장 후 300일 거래일이 지나고 나서 주가가 오른 비율 구하기\n",
    "\n",
    "log_sum={}\n",
    "for df,name in zip(df_lst, over300):\n",
    "    log_sum[name] = (np.exp(df[\"log_fltRt\"].sum())-1)*100"
   ]
  },
  {
   "cell_type": "code",
   "execution_count": 104,
   "id": "7b07dc1e",
   "metadata": {},
   "outputs": [
    {
     "name": "stdout",
     "output_type": "stream",
     "text": [
      "0.14906832298136646\n"
     ]
    }
   ],
   "source": [
    "# 한 개의 신규 상장 주식을 300일간 가지고 있었을 때 오를 확률\n",
    "plus, minus = 0, 0\n",
    "for a in log_sum.values():\n",
    "    if a > 0: plus+=1\n",
    "    else: minus+=1\n",
    "print(plus/(plus+minus))"
   ]
  },
  {
   "cell_type": "code",
   "execution_count": 105,
   "id": "1d7c4616",
   "metadata": {},
   "outputs": [
    {
     "name": "stdout",
     "output_type": "stream",
     "text": [
      "10개 중 7개가 오를 확률 :  0.00012093802699810594\n"
     ]
    }
   ],
   "source": [
    "import math\n",
    "p_rate = plus/(plus+minus)\n",
    "\n",
    "a = math.factorial(10)\n",
    "b = math.factorial(7) *math.factorial(3)\n",
    "c = ((p_rate)**7) * ((1-p_rate) **3)\n",
    "number = a/b\n",
    "\n",
    "prob = number * c\n",
    "print(\"10개 중 7개가 오를 확률 : \", prob)"
   ]
  },
  {
   "cell_type": "code",
   "execution_count": 113,
   "id": "d7556bef",
   "metadata": {},
   "outputs": [],
   "source": [
    "var=np.sqrt(p_rate * (1-p_rate)) * np.sqrt(161)"
   ]
  },
  {
   "cell_type": "code",
   "execution_count": 114,
   "id": "d6af645d",
   "metadata": {},
   "outputs": [
    {
     "data": {
      "text/plain": [
       "24.0"
      ]
     },
     "execution_count": 114,
     "metadata": {},
     "output_type": "execute_result"
    }
   ],
   "source": [
    "p_rate*161\n",
    "# 신규 상장 주식 161개 중 24개 주변으로 약 4.5개 전후로 오른다."
   ]
  },
  {
   "cell_type": "code",
   "execution_count": 118,
   "id": "4cf06ceb",
   "metadata": {},
   "outputs": [
    {
     "data": {
      "text/plain": [
       "2.8069009685966235"
      ]
     },
     "execution_count": 118,
     "metadata": {},
     "output_type": "execute_result"
    }
   ],
   "source": [
    "var/161*100\n",
    "# 신규 상장 주식을 사서 300일간의 거래일 동안 보유했을 때 \n",
    "# 오를 확률은 약15% 주변으로 약 3% 전후로 오른다."
   ]
  },
  {
   "cell_type": "code",
   "execution_count": 124,
   "id": "cf9c40da",
   "metadata": {},
   "outputs": [
    {
     "data": {
      "text/plain": [
       "array(['원티드랩', '비트나인', '맥스트', '아주스틸', '피엔케이피부임상연구센타', '차백신연구소',\n",
       "       '아이패밀리에스씨', '딥노이드', '플레이디', '한국파마', '피엔케이피부임상연구센타', '와이팜', '핌스',\n",
       "       '에스디바이오센서', '원방테크', '플래티어', '카카오페이', '솔루엠', '뷰노', '차백신연구소', '서남',\n",
       "       '나우코스', '레인보우로보틱스', '씨엔티드림', '롯데렌탈', '맥스트', '크래프톤', '리파인', '크래프톤',\n",
       "       '이노뎁', '이삭엔지니어링', '아스플로', '롯데렌탈', '라이프시맨틱스', '브레인즈컴퍼니', '이루다',\n",
       "       '큐라클', '아이티아이즈', 'SK바이오팜', '신도기연', '지앤비에스엔지니어링', '에이프로', '나우코스',\n",
       "       '네패스아크', '마인즈랩', '지오엘리먼트', '제노코', '비비씨', '플래티어', '나우코스'],\n",
       "      dtype=object)"
      ]
     },
     "execution_count": 124,
     "metadata": {},
     "output_type": "execute_result"
    }
   ],
   "source": [
    "np.random.choice(over300, size=50)"
   ]
  },
  {
   "cell_type": "code",
   "execution_count": 134,
   "id": "8ba26fd2",
   "metadata": {},
   "outputs": [],
   "source": [
    "size = 50 # 투자 기업 수\n",
    "n = 10000 # 반복실행횟수\n",
    "result = []\n",
    "for i in range(n):\n",
    "    money = 0\n",
    "    sample = np.random.choice(over300, size=50)\n",
    "    for s in sample:\n",
    "        money += log_sum[s]\n",
    "    result.append(money/50)"
   ]
  },
  {
   "cell_type": "code",
   "execution_count": 138,
   "id": "97608893",
   "metadata": {},
   "outputs": [
    {
     "data": {
      "image/png": "[encoded data removed]",
      "text/plain": [
       "<Figure size 800x500 with 1 Axes>"
      ]
     },
     "metadata": {},
     "output_type": "display_data"
    }
   ],
   "source": [
    "fig, ax = plt.subplots(figsize=(8,5))\n",
    "ax.hist(result, alpha=0.3, bins=1000) \n",
    "ax.grid(True)\n",
    "ax.set_xlim((-80, 20))\n",
    "plt.title(\"신규 상장 주식을 50개를 300거래일 동안 보유하였을 때 기대되어지는 수익률\")\n",
    "plt.savefig(\"bootstrapping01.png\", dpi=150, bbox_inches='tight')\n",
    "plt.show()"
   ]
  },
  {
   "cell_type": "code",
   "execution_count": 139,
   "id": "15e54bf2",
   "metadata": {},
   "outputs": [],
   "source": [
    "ret5 = np.percentile(result, 5)"
   ]
  },
  {
   "cell_type": "code",
   "execution_count": 140,
   "id": "31707f7f",
   "metadata": {},
   "outputs": [],
   "source": [
    "VaR95= ret5*200000000"
   ]
  },
  {
   "cell_type": "code",
   "execution_count": 141,
   "id": "f47e10a9",
   "metadata": {},
   "outputs": [
    {
     "data": {
      "text/plain": [
       "-8497379026.4314375"
      ]
     },
     "execution_count": 141,
     "metadata": {},
     "output_type": "execute_result"
    }
   ],
   "source": [
    "VaR95"
   ]
  }
 ],
 "metadata": {
  "kernelspec": {
   "display_name": "Python 3 (ipykernel)",
   "language": "python",
   "name": "python3"
  },
  "language_info": {
   "codemirror_mode": {
    "name": "ipython",
    "version": 3
   },
   "file_extension": ".py",
   "mimetype": "text/x-python",
   "name": "python",
   "nbconvert_exporter": "python",
   "pygments_lexer": "ipython3",
   "version": "3.10.11"
  }
 },
 "nbformat": 4,
 "nbformat_minor": 5
}
